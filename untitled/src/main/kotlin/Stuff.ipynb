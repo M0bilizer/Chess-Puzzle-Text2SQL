{
 "cells": [
  {
   "cell_type": "code",
   "metadata": {
    "collapsed": true,
    "ExecuteTime": {
     "end_time": "2025-05-12T18:34:37.845260700Z",
     "start_time": "2025-05-12T18:34:37.407150Z"
    }
   },
   "source": [
    "fun fib(i: Int): Int {\n",
    "    tailrec fun go(n: Int, prev: Int, acc: Int): Int =\n",
    "        if (n <= 0) prev\n",
    "        else go(n-1, acc, acc+prev)\n",
    "    return go(i, 0, 1)\n",
    "}\n",
    "\n",
    "fib(5)"
   ],
   "outputs": [
    {
     "data": {
      "text/plain": [
       "5"
      ]
     },
     "execution_count": 1,
     "metadata": {},
     "output_type": "execute_result"
    }
   ],
   "execution_count": 1
  },
  {
   "metadata": {
    "ExecuteTime": {
     "end_time": "2025-05-13T17:23:24.104934700Z",
     "start_time": "2025-05-13T17:23:23.954391100Z"
    }
   },
   "cell_type": "code",
   "source": [
    "val <T> List<T>.tail: List<T>\n",
    "    get() = drop(1)\n",
    "\n",
    "val <T> List<T>.head: T\n",
    "    get() = first()\n",
    "\n",
    "fun <A> isSorted(aa: List<A>, order: (A, A) -> Boolean): Boolean {\n",
    "    tailrec fun go(x: A, aa: List<A>): Boolean =\n",
    "        if (aa.isEmpty()) true\n",
    "        else if (!order(x, aa.head)) false\n",
    "        else go(aa.head, aa.tail)\n",
    "    return aa.isEmpty() || go(aa.head,aa.tail)\n",
    "}\n",
    "\n",
    "isSorted(listOf<Int>()) {x, y -> x >= y}\n",
    "isSorted(listOf(1, 3, 2, 4), { x: Int, y: Int -> x >= y })"
   ],
   "outputs": [
    {
     "data": {
      "text/plain": [
       "false"
      ]
     },
     "execution_count": 6,
     "metadata": {},
     "output_type": "execute_result"
    }
   ],
   "execution_count": 6
  },
  {
   "metadata": {
    "ExecuteTime": {
     "end_time": "2025-05-12T18:35:01.794983300Z",
     "start_time": "2025-05-12T18:35:01.637058700Z"
    }
   },
   "cell_type": "code",
   "source": [
    "fun <A, B, C> curry(f: (A, B) -> C): (A) -> (B) -> C =\n",
    "    {a -> {\n",
    "            b -> f(a,b)\n",
    "        }\n",
    "    }"
   ],
   "outputs": [],
   "execution_count": 2
  },
  {
   "metadata": {},
   "cell_type": "code",
   "outputs": [],
   "execution_count": null,
   "source": [
    "fun <A, B, C> uncurry(f: (A) -> (B) -> C): (A, B) -> C =\n",
    "    {a, b -> f(a)(b)}"
   ]
  },
  {
   "metadata": {
    "ExecuteTime": {
     "end_time": "2025-05-12T18:36:03.385928200Z",
     "start_time": "2025-05-12T18:36:03.268162200Z"
    }
   },
   "cell_type": "code",
   "source": [
    "fun <A, B, C> compose(f: (B) -> C, g: (A) -> B): (A) -> C =\n",
    "    {a -> f(g(a))}"
   ],
   "outputs": [],
   "execution_count": 4
  },
  {
   "metadata": {
    "ExecuteTime": {
     "end_time": "2025-05-15T16:53:15.620547900Z",
     "start_time": "2025-05-15T16:53:15.366371800Z"
    }
   },
   "cell_type": "code",
   "source": [
    "\n",
    "\n",
    "sealed class List<out A> {\n",
    "    object Nil : List<Nothing>()\n",
    "    data class Cons<out A>(val head: A, val tail: List<A>) : List<A>()\n",
    "    companion object {\n",
    "        fun <A> of(vararg aa: A): List<A> {\n",
    "            val tail = aa.sliceArray(1 until aa.size)\n",
    "            return if (aa.isEmpty()) Nil else Cons(aa[0], of(*tail))\n",
    "        }\n",
    "\n",
    "        fun <A> init(l: List<A>): List<A> {\n",
    "            return when (l) {\n",
    "                is List.Nil -> throw IllegalArgumentException(\"Cannot init from a Nil List\")\n",
    "                is List.Cons -> return when (l.tail) {\n",
    "                    is List.Nil -> Nil\n",
    "                    is List.Cons -> Cons(l.head, init(l.tail))\n",
    "                }\n",
    "            }\n",
    "        }\n",
    "    }\n",
    "}\n",
    "\n",
    "fun <A> List<A>.tail(): List<A> =\n",
    "    when (this) {\n",
    "        is List.Nil -> throw IllegalArgumentException(\"Nil cannot have tail\")\n",
    "        is List.Cons -> this.tail\n",
    "    }\n",
    "\n",
    "fun <A> List<A>.setHead(x: A): List<A> =\n",
    "    when (this) {\n",
    "        is List.Nil -> throw IllegalArgumentException(\"Cannot replace head of a Nil List\")\n",
    "        is List.Cons -> List.Cons(x, this)\n",
    "    }\n",
    "\n",
    "fun <A> List<A>.drop(n: Int): List<A> =\n",
    "    if (n == 0) this\n",
    "    else when (this) {\n",
    "        is List.Nil -> throw IllegalArgumentException(\"Cannot drop more elements than in list\")\n",
    "        is List.Cons -> this.tail.drop(n-1)\n",
    "    }\n",
    "\n",
    "fun <A> List<A>.dropWhile(f: (A) -> Boolean): List<A> =\n",
    "    when (this) {\n",
    "        is List.Nil -> this\n",
    "        is List.Cons -> if (f(this.head)) this.tail.dropWhile(f) else this\n",
    "    }\n",
    "\n",
    "fun <A, B> List<A>.foldRight(xs: List<A>, z: B, f: (A, B) -> B): B =\n",
    "    when (xs) {\n",
    "        is List.Nil -> z\n",
    "        is List.Cons -> f(xs.head, foldRight(xs.tail, z, f))\n",
    "    }\n",
    "\n",
    "tailrec fun <A, B> foldLeft(xs: List<A>, z: B, f: (B, A) -> B): B =\n",
    "    when (xs) {\n",
    "        is List.Nil -> z\n",
    "        is List.Cons -> foldLeft(xs.tail, f(z, xs.head), f)\n",
    "    }\n",
    "\n",
    "//fun <A> List<A>.length(): Int =\n",
    "//    foldRight(this, 0) {_, acc -> 1 + acc}\n",
    "\n",
    "fun List<Int>.sum(): Int =\n",
    "    foldLeft(this, 0) {a, b -> a + b}\n",
    "\n",
    "fun List<Double>.product(): Double =\n",
    "    foldLeft(this, 1.0) {a, b -> a * b}\n",
    "\n",
    "fun <A> List<A>.length(): Int =\n",
    "    foldLeft(this, 0) {acc, _ -> 1 + acc}\n",
    "\n",
    "fun <A> List<A>.reverse(): List<A> =\n",
    "    foldLeft(this, List.Nil as List<A>) {a, b -> List.Cons(b, a)}\n",
    "\n",
    "fun <A, B> List<A>.foldLeftR(z: B, f: (B, A) -> B): B =\n",
    "    foldRight(\n",
    "        this,\n",
    "        {b: B -> b},\n",
    "        {a, g ->\n",
    "            {b -> g(f(b,a))}\n",
    "        })(z)\n",
    "\n",
    "fun <A, B> List<A>.foldRightL(z: B, f: (A, B) -> B): B =\n",
    "    foldLeft(\n",
    "        this,\n",
    "        {b: B -> b},\n",
    "        {g, a ->\n",
    "            {b -> g(f(a,b))}\n",
    "        })(z)\n",
    "\n",
    "fun <A> List<A>.append(a: List<A>): List<A> =\n",
    "    foldRight(this, a) {b, c -> List.Cons(b, c)}\n",
    "\n",
    "fun <A> List<List<A>>.concatenate(): List<A> =\n",
    "    foldRight(this, List.Nil as List<A>) {a, b -> a.append(b)}\n",
    "\n",
    "fun List<Int>.increment(): List<Int> =\n",
    "    foldRight(this, List.Nil as List<Int>) {a, b -> List.Cons(a + 1, b)}\n",
    "\n",
    "fun List<Double>.doubleToString(): List<String> =\n",
    "    foldRight(this, List.Nil as List<String>) {a, b -> List.Cons(a.toString(), b)}\n",
    "\n",
    "fun <A, B> List<A>.map(f: (A) -> B): List<B> =\n",
    "    foldRight(this, List.Nil as List<B>) {a, b -> List.Cons(f(a), b)}\n",
    "\n",
    "fun <A> List<A>.filter(f: (A) -> Boolean): List<A> =\n",
    "    foldRight(this, List.Nil as List<A>)\n",
    "    {a, b ->\n",
    "        if (f(a)) List.Cons(a, b)\n",
    "        else b\n",
    "    }\n",
    "\n",
    "fun <A, B> List<A>.flatMap(f: (A) -> List<B>): List<B> =\n",
    "    foldRight(this, List.Nil as List<B>) {a, b -> f(a).append(b)}\n",
    "\n",
    "fun <A> List<A>.flatFilter(f: (A) -> Boolean): List<A> =\n",
    "    flatMap{ a -> if (f(a)) List.of(a) else List.Nil as List<A>}\n",
    "\n",
    "fun List<Int>.add(a: List<Int>): List<Int> =\n",
    "    when (this) {\n",
    "        is List.Nil -> List.Nil\n",
    "        is List.Cons -> when (a) {\n",
    "            is List.Nil -> List.Nil\n",
    "            is List.Cons -> List.Cons(this.head + a.head, this.tail.add(a.tail))\n",
    "        }\n",
    "    }\n",
    "\n",
    "fun <A, B, C> List<A>.zipWith(a: List<B>, f: (A, B) -> C): List<C> =\n",
    "    when (this) {\n",
    "        is List.Nil -> List.Nil\n",
    "        is List.Cons -> when (a) {\n",
    "            is List.Nil -> List.Nil\n",
    "            is List.Cons -> List.Cons(f(this.head, a.head), this.tail.zipWith(a.tail, f))\n",
    "        }\n",
    "    }\n",
    "\n",
    "tailrec fun <A> List<A>.startsWith(l: List<A>): Boolean =\n",
    "    when (this) {\n",
    "        is List.Nil -> l == List.Nil\n",
    "        is List.Cons -> when (l) {\n",
    "            is List.Nil -> true\n",
    "            is List.Cons -> if (this.head != l.head) false else this.tail.startsWith(l.tail)\n",
    "        }\n",
    "    }\n",
    "\n",
    "tailrec fun <A> List<A>.hasSubsequence(sub: List<A>): Boolean =\n",
    "    when (this) {\n",
    "        is List.Nil -> false\n",
    "        is List.Cons -> if (this.startsWith(sub)) true else this.tail.hasSubsequence(sub)\n",
    "    }\n",
    "\n",
    "val list0 = List.of(1,2,3,4)\n",
    "val list1 = List.of(5,6,7,8)\n",
    "val list2 = List.of(list0, list1)\n",
    "val list3 = List.of(1.0, 2.0, 3.0)\n",
    "val list4 = List.of(1,2)\n",
    "val list5 = List.of(2)\n",
    "list2.concatenate()\n",
    "list0.increment()\n",
    "list3.doubleToString()\n",
    "list0.map({a -> a * 2})\n",
    "list0.filter{ it -> it % 2 == 1}\n",
    "list0.flatMap{ i -> List.of(i, i)}\n",
    "list0.flatFilter { it -> it % 2 == 1 }\n",
    "list0.add(list1)\n",
    "list0.zipWith(list1) {a, b -> a*b}\n",
    "list1.startsWith(list4)\n",
    "list0.hasSubsequence(list5)"
   ],
   "outputs": [
    {
     "data": {
      "text/plain": [
       "true"
      ]
     },
     "execution_count": 47,
     "metadata": {},
     "output_type": "execute_result"
    }
   ],
   "execution_count": 47
  },
  {
   "metadata": {},
   "cell_type": "code",
   "outputs": [],
   "execution_count": null,
   "source": [
    "sealed class Tree<out A> {\n",
    "    data class Leaf<A>(val value: A) : Tree<A>()\n",
    "    data class Branch<A>(val left: Tree<A>, val right: Tree<A>) : Tree<A>()\n",
    "}\n",
    "\n",
    "fun <A> Tree<A>.size(): Int =\n",
    "    when (this) {\n",
    "        is Tree.Leaf -> 1\n",
    "        is Tree.Branch -> 1 + this.left.size() + this.right.size()\n",
    "    }\n",
    "\n",
    "fun <Int> Tree<Int>.max(): Int =\n",
    "    when (this) {\n",
    "        is Tree.Leaf -> this.value\n",
    "        is Tree.Branch -> maxOf(this.left.max(), this.right.max())\n",
    "    }\n",
    "\n",
    "fun <A> Tree<A>.depth(): Int =\n",
    "    when (this) {\n",
    "        is Tree.Leaf -> 0\n",
    "        is Tree.Branch -> 1 + maxOf(this.left.depth(), this.right.depth())\n",
    "    }\n",
    "\n",
    "fun <A,B> Tree<A>.map(f: (A) -> B): Tree<B> =\n",
    "    when (this) {\n",
    "        is Tree.Leaf -> Tree.Leaf(f(this.value))\n",
    "        is Tree.Branch -> Tree.Branch(this.left.map(f), this.right.map(f))\n",
    "    }\n",
    "\n",
    "fun <A, B> fold(ta: Tree<A>, l: (A) -> B, b: (B,B) -> B): B =\n",
    "    when (ta) {\n",
    "        is Tree.Leaf -> l(ta.value)\n",
    "        is Tree.Branch -> b(fold(ta.left, l, b), fold(ta.right, l, b))\n",
    "    }\n",
    "\n",
    "fun <A> Tree<A>.sizeF(): Int =\n",
    "    fold(this, {1}) {a, b -> 1 + a + b}\n",
    "\n",
    "fun Tree<Int>.maximumF(): Int =\n",
    "    fold(this, {a -> a}) {a, b -> maxOf(a, b)}\n",
    "\n",
    "fun <A> Tree<A>.depthF() : Int =\n",
    "    fold(this, {0}) {a, b -> 1 + maxOf(a, b)}\n",
    "\n",
    "fun <A,B> Tree<A>.mapOf(f: (A) -> B): Tree<B> =\n",
    "    fold(this, {a: A -> Tree.Leaf(f(a))}) {a: Tree<B>, b: Tree<B> -> Tree.Branch(a, b)}\n"
   ]
  },
  {
   "metadata": {
    "ExecuteTime": {
     "end_time": "2025-05-20T10:12:02.878432900Z",
     "start_time": "2025-05-20T10:12:02.396024Z"
    }
   },
   "cell_type": "code",
   "source": [
    "sealed class Option<out A> {\n",
    "    data class Some<out A>(val get: A) : Option<A>()\n",
    "    object None : Option<Nothing>()\n",
    "}\n",
    "\n",
    "fun <A, B> Option<A>.map(f: (A) -> B): Option<B> =\n",
    "    when (this) {\n",
    "        is Option.Some -> Option.Some(f(this.get))\n",
    "        is Option.None -> Option.None\n",
    "    }\n",
    "\n",
    "fun <A, B> Option<A>.flatMap(f: (A) -> Option<B>): Option<B> =\n",
    "    when (this) {\n",
    "        is Option.Some -> f(this.get)\n",
    "        is Option.None -> Option.None\n",
    "    }\n",
    "\n",
    "fun <A> Option<A>.getOrElse(default: () -> A): A =\n",
    "    when (this) {\n",
    "        is Option.Some -> this.get\n",
    "        is Option.None -> default()\n",
    "    }\n",
    "\n",
    "fun <A> Option<A>.orElse(ob: () -> Option<A>): Option<A> =\n",
    "    when (this) {\n",
    "        is Option.Some -> this\n",
    "        is Option.None -> ob()\n",
    "    }\n",
    "\n",
    "fun <A> Option<A>.filter(f: (A) -> Boolean): Option<A> =\n",
    "    when (this) {\n",
    "        is Option.Some -> if(!f(this.get)) Option.None else this\n",
    "        is Option.None -> this\n",
    "    }"
   ],
   "outputs": [],
   "execution_count": 4
  },
  {
   "metadata": {},
   "cell_type": "code",
   "outputs": [],
   "execution_count": null,
   "source": [
    "fun List<Double>.mean(): Option<Double> =\n",
    "    if (this.isEmpty()) Option.None\n",
    "    else Option.Some(this.sum()/ this.size)\n",
    "\n",
    "fun List<Double>.variance(): Option<Double> =\n",
    "    this.mean().flatMap"
   ]
  }
 ],
 "metadata": {
  "kernelspec": {
   "display_name": "Kotlin",
   "language": "kotlin",
   "name": "kotlin"
  },
  "language_info": {
   "name": "kotlin",
   "version": "1.9.23",
   "mimetype": "text/x-kotlin",
   "file_extension": ".kt",
   "pygments_lexer": "kotlin",
   "codemirror_mode": "text/x-kotlin",
   "nbconvert_exporter": ""
  }
 },
 "nbformat": 4,
 "nbformat_minor": 0
}
